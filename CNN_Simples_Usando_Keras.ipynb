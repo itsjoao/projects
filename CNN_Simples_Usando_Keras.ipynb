{
  "nbformat": 4,
  "nbformat_minor": 0,
  "metadata": {
    "colab": {
      "provenance": []
    },
    "kernelspec": {
      "name": "python3",
      "display_name": "Python 3"
    },
    "language_info": {
      "name": "python"
    }
  },
  "cells": [
    {
      "cell_type": "code",
      "execution_count": 1,
      "metadata": {
        "id": "WLBTA8eLJI8r"
      },
      "outputs": [],
      "source": [
        "# bibliotecas necessárias\n",
        "\n",
        "import tensorflow as tf\n",
        "from tensorflow.keras.models import Sequential\n",
        "from tensorflow.keras.layers import Conv2D, MaxPooling2D, Flatten, Dense\n",
        "from tensorflow.keras.optimizers import Adam\n",
        "import numpy as np\n",
        "import matplotlib.pyplot as plt"
      ]
    },
    {
      "cell_type": "code",
      "source": [
        "# Seed para reprodutibilidade.\n",
        "np.random.seed(42)\n",
        "tf.random.set_seed(42)"
      ],
      "metadata": {
        "id": "Rp5VqJ61JVlJ"
      },
      "execution_count": 2,
      "outputs": []
    },
    {
      "cell_type": "code",
      "source": [
        "# Padrao X num pixel 5x5\n",
        "def generate_x_image():\n",
        "    return np.array([\n",
        "        [1, 0, 0, 0, 1],\n",
        "        [0, 1, 0, 1, 0],\n",
        "        [0, 0, 1, 0, 0],\n",
        "        [0, 1, 0, 1, 0],\n",
        "        [1, 0, 0, 0, 1]\n",
        "    ])"
      ],
      "metadata": {
        "id": "a7pBP_q_JVnI"
      },
      "execution_count": 3,
      "outputs": []
    },
    {
      "cell_type": "code",
      "source": [
        "# nao x\n",
        "def generate_not_x_image():\n",
        "    # garantindo q aleatoriamente o padrao nao seja 'x'\n",
        "    while True:\n",
        "        img = np.random.randint(2, size=(5, 5))\n",
        "        if not np.array_equal(img, generate_x_image()):\n",
        "            return img"
      ],
      "metadata": {
        "id": "SI1OontYJVpW"
      },
      "execution_count": 4,
      "outputs": []
    },
    {
      "cell_type": "code",
      "source": [
        "# Criando dataset 50% x e 50% nao x\n",
        "\n",
        "num_samples = 1000\n",
        "images = []\n",
        "labels = []\n",
        "\n",
        "for _ in range(num_samples):\n",
        "    if np.random.rand() > 0.5:\n",
        "        images.append(generate_x_image())\n",
        "        labels.append(1)\n",
        "    else:\n",
        "        images.append(generate_not_x_image())\n",
        "        labels.append(0)\n",
        "\n",
        "images = np.array(images).reshape(-1, 5, 5, 1)\n",
        "labels = np.array(labels)"
      ],
      "metadata": {
        "id": "_hg3EqyxJVra"
      },
      "execution_count": 5,
      "outputs": []
    },
    {
      "cell_type": "code",
      "source": [
        "# Utilizando o sklearn para dividir em train e test\n",
        "from sklearn.model_selection import train_test_split\n",
        "x_train, x_test, y_train, y_test = train_test_split(images, labels, test_size=0.2, random_state=42)"
      ],
      "metadata": {
        "id": "_nYiYogwJVtl"
      },
      "execution_count": 6,
      "outputs": []
    },
    {
      "cell_type": "code",
      "source": [
        "# show imagens\n",
        "\n",
        "def display_sample_data(images, labels, num_samples=5):\n",
        "    plt.figure(figsize=(10, 2))\n",
        "    for i in range(num_samples):\n",
        "        ax = plt.subplot(1, num_samples, i + 1)\n",
        "        plt.imshow(images[i].reshape(5, 5), cmap='gray_r')\n",
        "        plt.title(f'Label: {labels[i]}')\n",
        "        plt.axis('off')\n",
        "    plt.show()\n",
        "\n",
        ""
      ],
      "metadata": {
        "id": "ejcyWJCtJVvv"
      },
      "execution_count": 8,
      "outputs": []
    },
    {
      "cell_type": "code",
      "source": [
        "display_sample_data(x_train, y_train,num_samples=10)"
      ],
      "metadata": {
        "colab": {
          "base_uri": "https://localhost:8080/",
          "height": 125
        },
        "id": "xHYON6rGJVxy",
        "outputId": "69d8de24-a10e-4c1b-c08e-e7b10a23d1cc"
      },
      "execution_count": 10,
      "outputs": [
        {
          "output_type": "display_data",
          "data": {
            "text/plain": [
              "<Figure size 1000x200 with 10 Axes>"
            ],
            "image/png": "[encoded data removed]"
          },
          "metadata": {}
        }
      ]
    },
    {
      "cell_type": "code",
      "source": [
        "#sequencial agrupa layers de um modelo\n",
        "\n",
        "model = Sequential([\n",
        "    # 1 - Convolutional Layer\n",
        "    Conv2D(4, (3, 3), activation='relu', input_shape=(5, 5, 1)),\n",
        "    # 2 - Max-Pooling Layer\n",
        "    MaxPooling2D(pool_size=(2, 2)),\n",
        "    # 3 - Flatten Layer\n",
        "    Flatten(),\n",
        "    # 4 - Hidden Layer\n",
        "    Dense(3, activation='relu'),\n",
        "    # 5 - Output Layer\n",
        "    Dense(1, activation='sigmoid')\n",
        "])"
      ],
      "metadata": {
        "colab": {
          "base_uri": "https://localhost:8080/"
        },
        "id": "XBr1XmF_K5IN",
        "outputId": "b4de394e-08ad-4cb0-e1d9-e1cd2a0f5ba0"
      },
      "execution_count": 11,
      "outputs": [
        {
          "output_type": "stream",
          "name": "stderr",
          "text": [
            "/usr/local/lib/python3.11/dist-packages/keras/src/layers/convolutional/base_conv.py:107: UserWarning: Do not pass an `input_shape`/`input_dim` argument to a layer. When using Sequential models, prefer using an `Input(shape)` object as the first layer in the model instead.\n",
            "  super().__init__(activity_regularizer=activity_regularizer, **kwargs)\n"
          ]
        }
      ]
    },
    {
      "cell_type": "code",
      "source": [
        "model.compile(optimizer=Adam(), loss='binary_crossentropy', metrics=['accuracy'])"
      ],
      "metadata": {
        "id": "CC4FhAjELfOV"
      },
      "execution_count": 12,
      "outputs": []
    },
    {
      "cell_type": "code",
      "source": [
        "history = model.fit(x_train, y_train, epochs=10, validation_data=(x_test, y_test))\n"
      ],
      "metadata": {
        "colab": {
          "base_uri": "https://localhost:8080/"
        },
        "id": "McnppDsdLkgF",
        "outputId": "a8e45839-4225-461d-cab2-2d095d3d89b4"
      },
      "execution_count": 13,
      "outputs": [
        {
          "output_type": "stream",
          "name": "stdout",
          "text": [
            "Epoch 1/10\n",
            "\u001b[1m25/25\u001b[0m \u001b[32m━━━━━━━━━━━━━━━━━━━━\u001b[0m\u001b[37m\u001b[0m \u001b[1m2s\u001b[0m 14ms/step - accuracy: 0.5303 - loss: 0.6387 - val_accuracy: 0.9500 - val_loss: 0.6260\n",
            "Epoch 2/10\n",
            "\u001b[1m25/25\u001b[0m \u001b[32m━━━━━━━━━━━━━━━━━━━━\u001b[0m\u001b[37m\u001b[0m \u001b[1m0s\u001b[0m 6ms/step - accuracy: 0.7993 - loss: 0.6090 - val_accuracy: 0.9800 - val_loss: 0.6076\n",
            "Epoch 3/10\n",
            "\u001b[1m25/25\u001b[0m \u001b[32m━━━━━━━━━━━━━━━━━━━━\u001b[0m\u001b[37m\u001b[0m \u001b[1m0s\u001b[0m 5ms/step - accuracy: 0.9902 - loss: 0.5884 - val_accuracy: 0.9950 - val_loss: 0.5873\n",
            "Epoch 4/10\n",
            "\u001b[1m25/25\u001b[0m \u001b[32m━━━━━━━━━━━━━━━━━━━━\u001b[0m\u001b[37m\u001b[0m \u001b[1m0s\u001b[0m 5ms/step - accuracy: 0.9943 - loss: 0.5673 - val_accuracy: 1.0000 - val_loss: 0.5669\n",
            "Epoch 5/10\n",
            "\u001b[1m25/25\u001b[0m \u001b[32m━━━━━━━━━━━━━━━━━━━━\u001b[0m\u001b[37m\u001b[0m \u001b[1m0s\u001b[0m 6ms/step - accuracy: 0.9949 - loss: 0.5471 - val_accuracy: 1.0000 - val_loss: 0.5483\n",
            "Epoch 6/10\n",
            "\u001b[1m25/25\u001b[0m \u001b[32m━━━━━━━━━━━━━━━━━━━━\u001b[0m\u001b[37m\u001b[0m \u001b[1m0s\u001b[0m 6ms/step - accuracy: 0.9949 - loss: 0.5278 - val_accuracy: 1.0000 - val_loss: 0.5298\n",
            "Epoch 7/10\n",
            "\u001b[1m25/25\u001b[0m \u001b[32m━━━━━━━━━━━━━━━━━━━━\u001b[0m\u001b[37m\u001b[0m \u001b[1m0s\u001b[0m 5ms/step - accuracy: 0.9972 - loss: 0.5088 - val_accuracy: 1.0000 - val_loss: 0.5113\n",
            "Epoch 8/10\n",
            "\u001b[1m25/25\u001b[0m \u001b[32m━━━━━━━━━━━━━━━━━━━━\u001b[0m\u001b[37m\u001b[0m \u001b[1m0s\u001b[0m 6ms/step - accuracy: 0.9972 - loss: 0.4901 - val_accuracy: 1.0000 - val_loss: 0.4934\n",
            "Epoch 9/10\n",
            "\u001b[1m25/25\u001b[0m \u001b[32m━━━━━━━━━━━━━━━━━━━━\u001b[0m\u001b[37m\u001b[0m \u001b[1m0s\u001b[0m 6ms/step - accuracy: 0.9972 - loss: 0.4724 - val_accuracy: 1.0000 - val_loss: 0.4756\n",
            "Epoch 10/10\n",
            "\u001b[1m25/25\u001b[0m \u001b[32m━━━━━━━━━━━━━━━━━━━━\u001b[0m\u001b[37m\u001b[0m \u001b[1m0s\u001b[0m 6ms/step - accuracy: 0.9972 - loss: 0.4548 - val_accuracy: 1.0000 - val_loss: 0.4589\n"
          ]
        }
      ]
    },
    {
      "cell_type": "code",
      "source": [
        "loss, accuracy = model.evaluate(x_test, y_test)\n",
        "print(f'Test Accuracy: {accuracy * 100:.2f}%')"
      ],
      "metadata": {
        "colab": {
          "base_uri": "https://localhost:8080/"
        },
        "id": "Ku7B8wBoLnsh",
        "outputId": "81463417-4281-415c-e2d3-837ba17abc1e"
      },
      "execution_count": 14,
      "outputs": [
        {
          "output_type": "stream",
          "name": "stdout",
          "text": [
            "\u001b[1m7/7\u001b[0m \u001b[32m━━━━━━━━━━━━━━━━━━━━\u001b[0m\u001b[37m\u001b[0m \u001b[1m0s\u001b[0m 6ms/step - accuracy: 1.0000 - loss: 0.4522 \n",
            "Test Accuracy: 100.00%\n"
          ]
        }
      ]
    },
    {
      "cell_type": "code",
      "source": [
        "plt.plot(history.history['accuracy'], label='accuracy')\n",
        "plt.plot(history.history['val_accuracy'], label='val_accuracy')\n",
        "plt.xlabel('Epoch')\n",
        "plt.ylabel('Accuracy')\n",
        "plt.legend()\n",
        "plt.show()"
      ],
      "metadata": {
        "collapsed": true,
        "colab": {
          "base_uri": "https://localhost:8080/",
          "height": 449
        },
        "id": "ewcV7j4_Lrzx",
        "outputId": "6d0432e5-4edd-45a5-e8dd-2b7dd5f41bbb"
      },
      "execution_count": 15,
      "outputs": [
        {
          "output_type": "display_data",
          "data": {
            "text/plain": [
              "<Figure size 640x480 with 1 Axes>"
            ],
            "image/png": "[encoded data removed]"
          },
          "metadata": {}
        }
      ]
    },
    {
      "cell_type": "code",
      "source": [
        "# Prepara o Input\n",
        "def prepare_input_image(img):\n",
        "  img_array = np.array(img).reshape(-1, 5, 5, 1)\n",
        "  return img_array\n",
        "\n",
        "# Exemplo\n",
        "input_image = generate_x_image() #ou generate_not_x_image()\n",
        "input_image_processed = prepare_input_image(input_image)\n",
        "prediction = model.predict(input_image_processed)\n",
        "\n",
        "print(f\"Prediction: {prediction}\") # Output will be a probability\n",
        "\n",
        "# Classify based on the probability threshold\n",
        "threshold = 0.5  # You can adjust the threshold\n",
        "if prediction > threshold:\n",
        "  predicted_class = 1\n",
        "else:\n",
        "  predicted_class = 0\n",
        "\n",
        "print(f\"Predicted Class: {predicted_class}\")\n"
      ],
      "metadata": {
        "colab": {
          "base_uri": "https://localhost:8080/"
        },
        "id": "UrXxoUg_Lr1s",
        "outputId": "e4afda21-694d-443a-99f4-3882f966da8b"
      },
      "execution_count": 23,
      "outputs": [
        {
          "output_type": "stream",
          "name": "stdout",
          "text": [
            "\u001b[1m1/1\u001b[0m \u001b[32m━━━━━━━━━━━━━━━━━━━━\u001b[0m\u001b[37m\u001b[0m \u001b[1m0s\u001b[0m 41ms/step\n",
            "Prediction: [[0.53938]]\n",
            "Predicted Class: 1\n"
          ]
        }
      ]
    }
  ]
}